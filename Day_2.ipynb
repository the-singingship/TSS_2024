{
  "nbformat": 4,
  "nbformat_minor": 0,
  "metadata": {
    "colab": {
      "provenance": [],
      "toc_visible": true,
      "authorship_tag": "ABX9TyO20XIVXudTkK9XgyBdDxtM",
      "include_colab_link": true
    },
    "kernelspec": {
      "name": "python3",
      "display_name": "Python 3"
    },
    "language_info": {
      "name": "python"
    }
  },
  "cells": [
    {
      "cell_type": "markdown",
      "metadata": {
        "id": "view-in-github",
        "colab_type": "text"
      },
      "source": [
        "<a href=\"https://colab.research.google.com/github/the-singingship/TSS_2024/blob/main/Day_2.ipynb\" target=\"_parent\"><img src=\"https://colab.research.google.com/assets/colab-badge.svg\" alt=\"Open In Colab\"/></a>"
      ]
    },
    {
      "cell_type": "markdown",
      "source": [
        "# Assignment 1"
      ],
      "metadata": {
        "id": "nwGtP8-CaFRm"
      }
    },
    {
      "cell_type": "markdown",
      "source": [
        "**Q1.** L is a list defined as L= [11, 12, 13, 14].\n",
        "\n",
        "1.   WAP to add 50 and 60 to L.\n",
        "2.   WAP to remove 11 and 13from L.\n",
        "3.   WAP to sort L in ascending order.\n",
        "4.   WAP to sort L in descending order.\n",
        "5.   WAP to search for 13 in L.\n",
        "6.   WAP to count the number of elements present in L.\n",
        "7.   WAP to sum all the elements in L.\n",
        "8.   WAP to sum all ODD numbers in L.\n",
        "9.   WAP to sum all EVEN numbers in L.\n",
        "10.  WAP to sum all PRIME numbers in L.\n",
        "11.  WAP to clear all the elements in L.\n",
        "12.  WAP to delete L.\n"
      ],
      "metadata": {
        "id": "KUdF_NTAahUr"
      }
    },
    {
      "cell_type": "code",
      "source": [
        "L= [11, 12, 13, 14]\n",
        "L.append(50)\n",
        "L.append(60)\n",
        "print(L)\n",
        "L.remove(11)\n",
        "L.remove(13)\n",
        "print(L)\n",
        "L.sort()\n",
        "print(L)\n",
        "L.sort(reverse=True)\n",
        "print(L)\n",
        "\n",
        "for i in range (len(L)):\n",
        "  if L[i]==13:\n",
        "    print(\"13 is in the list\")\n",
        "    break\n",
        "  else:\n",
        "    pass\n",
        "\n",
        "c=s=0\n",
        "for i in L:\n",
        "  c+=1\n",
        "  s+=i\n",
        "print(\"No of elements in the list are \",c)\n",
        "print(\"Sum of elements of the list are \",s)\n",
        "\n",
        "e=o=0\n",
        "for i in L:\n",
        "  if(i%2==0):\n",
        "    e+=i\n",
        "  else:\n",
        "    o+=i\n",
        "print(\"Sum of all the odd nos are\",o,\"and the sum of all the even nos are\",e)\n",
        "\n",
        "for num in L:\n",
        "  p = True\n",
        "  for i in range(2, num // 2 + 1):\n",
        "    if num % i == 0:\n",
        "      p = False\n",
        "      break\n",
        "    else:\n",
        "      print(num, \"is a prime no\")\n",
        "\n",
        "L.clear()\n",
        "print(L)\n",
        "del L"
      ],
      "metadata": {
        "id": "nJ4WZRQjbjmp",
        "colab": {
          "base_uri": "https://localhost:8080/"
        },
        "outputId": "ccb43b46-6d08-419c-a621-50ad798aaac7"
      },
      "execution_count": 1,
      "outputs": [
        {
          "output_type": "stream",
          "name": "stdout",
          "text": [
            "[11, 12, 13, 14, 50, 60]\n",
            "[12, 14, 50, 60]\n",
            "[12, 14, 50, 60]\n",
            "[60, 50, 14, 12]\n",
            "No of elements in the list are  4\n",
            "Sum of elements of the list are  136\n",
            "Sum of all the odd nos are 0 and the sum of all the even nos are 136\n",
            "[]\n"
          ]
        }
      ]
    },
    {
      "cell_type": "markdown",
      "source": [
        "**Q2.** D is a dictionary defined as D= {1:5.6, 2:7.8, 3:6.6, 4:8.7, 5:7.7}.\n",
        "1.   WAP to add new entry in D; key=8 and value is 8.8\n",
        "2.   WAP to remove key=2.\n",
        "3.   WAP to check weather 6 key is present in D.\n",
        "4.   WAP to count the number of elements present in D.\n",
        "5.   WAP to add all the values present D.\n",
        "6.   WAP to update the value of 3 to 7.1.\n",
        "7.   WAP to clear the dictionary."
      ],
      "metadata": {
        "id": "991oKoDKbmZ7"
      }
    },
    {
      "cell_type": "code",
      "source": [
        "D={1:5.6, 2:7.8, 3:6.6, 4:8.7, 5:7.7}\n",
        "D[8]=8.8\n",
        "print(D)\n",
        "\n",
        "del D[2]\n",
        "print(\"Removed key 2:\", D)\n",
        "\n",
        "if 6 in D:\n",
        "  print(\"Key 6 is present in the dictionary\")\n",
        "else:\n",
        "  print(\"Key 6 is not present in the dictionary\")\n",
        "\n",
        "n=len(D)\n",
        "print(\"Number of elements:\", n)\n",
        "\n",
        "sum=sum(D.values())\n",
        "print(\"Sum of all values:\", sum)\n",
        "\n",
        "D[3] = 7.1\n",
        "print(\"Updated value of key 3 to 7.1:\", D)\n",
        "\n",
        "D.clear()\n",
        "print(D)"
      ],
      "metadata": {
        "id": "XTey-__ScH6T",
        "colab": {
          "base_uri": "https://localhost:8080/"
        },
        "outputId": "c4232e21-6daa-4d97-f0a9-cc804584265b"
      },
      "execution_count": 13,
      "outputs": [
        {
          "output_type": "stream",
          "name": "stdout",
          "text": [
            "{1: 5.6, 2: 7.8, 3: 6.6, 4: 8.7, 5: 7.7, 8: 8.8}\n",
            "Removed key 2: {1: 5.6, 3: 6.6, 4: 8.7, 5: 7.7, 8: 8.8}\n",
            "Key 6 is not present in the dictionary\n",
            "Number of elements: 5\n",
            "Sum of all values: 37.4\n",
            "Updated value of key 3 to 7.1: {1: 5.6, 3: 7.1, 4: 8.7, 5: 7.7, 8: 8.8}\n",
            "{}\n"
          ]
        }
      ]
    },
    {
      "cell_type": "markdown",
      "source": [
        "**Q3.** S1 is a set defined as S1= [10, 20, 30, 40, 50, 60].\n",
        "S2 is a set defined as S2= [40, 50, 60, 70, 80, 90].\n",
        "\n",
        "1.   WAP to add 55 and 66 in Set S1.\n",
        "2.   WAP to remove 10 and 30 from Set S1.\n",
        "3.   WAP to check whether 40 is present in S1.\n",
        "4.   WAP to find the union between S1 and S2.\n",
        "5.   WAP to find the intersection between S1 and S2.\n",
        "6.   WAP to find the S1 - S2.\n"
      ],
      "metadata": {
        "id": "eG45vSxAcIYC"
      }
    },
    {
      "cell_type": "code",
      "source": [
        "S1= set([10, 20, 30, 40, 50, 60])\n",
        "S2= set([40, 50, 60, 70, 80, 90])\n",
        "\n",
        "S1.add(55)\n",
        "S1.add(66)\n",
        "print(S1)\n",
        "\n",
        "S1.remove(10)\n",
        "S1.remove(30)\n",
        "print(S1)\n",
        "\n",
        "if 40 in S1:\n",
        "  print(\"40 is present in S1\")\n",
        "else:\n",
        "  print(\"40 is not present in S1\")\n",
        "\n",
        "union=S1.union(S2)\n",
        "print(\"Union of S1 and S2:\",union)\n",
        "\n",
        "intersect= S1.intersection(S2)\n",
        "print(\"Intersection of S1 and S2:\", intersect)\n",
        "\n",
        "diff= S1.difference(S2)\n",
        "print(\"Difference of S1 and S2:\", diff)"
      ],
      "metadata": {
        "id": "PyzooyVTcwUx",
        "colab": {
          "base_uri": "https://localhost:8080/"
        },
        "outputId": "4caa2a31-05cb-4e73-e115-a62702b9ffe4"
      },
      "execution_count": 16,
      "outputs": [
        {
          "output_type": "stream",
          "name": "stdout",
          "text": [
            "{66, 40, 10, 50, 20, 55, 60, 30}\n",
            "{66, 40, 50, 20, 55, 60}\n",
            "40 is present in S1\n",
            "Union of S1 and S2: {66, 70, 40, 80, 50, 20, 55, 90, 60}\n",
            "Intersection of S1 and S2: {40, 50, 60}\n",
            "Difference of S1 and S2: {66, 20, 55}\n"
          ]
        }
      ]
    },
    {
      "cell_type": "markdown",
      "source": [
        "**Q4.** Write the following program.\n",
        "\n",
        "1. WAP to print 100 random strings whose length between 6 and 8.\n",
        "2. WAP to print all prime numbers between 600 and 800.\n",
        "3. WAP to print all numbers between 100 and 1000 that are divisible by 7 and 9."
      ],
      "metadata": {
        "id": "hdpOJ0_mcw7G"
      }
    },
    {
      "cell_type": "code",
      "source": [
        "import random\n",
        "import string\n",
        "\n",
        "for i in range(100):\n",
        "    random_string = ''.join(random.choice(string.ascii_letters)\n",
        "    for j in range(random.randint(6, 8)))\n",
        "    print(random_string)\n",
        "\n",
        "for num in range(600, 801):\n",
        "  p = True\n",
        "  for i in range(2, num // 2 + 1):\n",
        "    if num % i == 0:\n",
        "      p = False\n",
        "      break\n",
        "  if p:\n",
        "      print(num, \"is a prime no\")\n",
        "\n",
        "for num in range(100, 1001):\n",
        "  if num % 7 == 0 and num % 9 == 0:\n",
        "    print(num)"
      ],
      "metadata": {
        "id": "lDQAF05cdCLe",
        "colab": {
          "base_uri": "https://localhost:8080/"
        },
        "outputId": "e61f4f12-ed89-4fbd-e32f-3b979cef84f9"
      },
      "execution_count": 5,
      "outputs": [
        {
          "output_type": "stream",
          "name": "stdout",
          "text": [
            "lJGTrg\n",
            "xHDtRSEi\n",
            "mgZbSnYu\n",
            "ILZJwdr\n",
            "UNSogEUx\n",
            "uMaibBo\n",
            "LtFmGK\n",
            "oTarcZZc\n",
            "XBZMVmC\n",
            "LyQqpzSK\n",
            "NFnMwapw\n",
            "izshZfn\n",
            "wRweVT\n",
            "MIhjci\n",
            "tlaWCVvN\n",
            "YCXvpEXw\n",
            "NqgTUsZF\n",
            "iEKlQVG\n",
            "IJVfoqm\n",
            "oqfZXNl\n",
            "PITlLp\n",
            "BWJFqzca\n",
            "CHMYqE\n",
            "BmhosrN\n",
            "mxptPE\n",
            "FnLsmbVc\n",
            "gMmdCEZ\n",
            "VTXZFr\n",
            "jsuPVkF\n",
            "OuKcfw\n",
            "uWnBDDZ\n",
            "PuWDfza\n",
            "tZieRlTA\n",
            "OuxXfvCj\n",
            "rbDbjF\n",
            "LowujKm\n",
            "nwzAfhY\n",
            "UErXaHI\n",
            "URqFlKvF\n",
            "uySDNPG\n",
            "JKhlhOyv\n",
            "NRBsnB\n",
            "jeCFycQz\n",
            "ytNFTlCg\n",
            "BpmLEX\n",
            "fFUTfuyg\n",
            "yMtQPT\n",
            "BDlVYwGC\n",
            "ZoMglnm\n",
            "ACmdhI\n",
            "gryUjY\n",
            "QoGYsrZA\n",
            "wAjLCEQn\n",
            "FNScEcCd\n",
            "HStuYQt\n",
            "kYybTpWx\n",
            "NLITJJ\n",
            "jTWntm\n",
            "ZZvpeZWq\n",
            "JmjNgi\n",
            "PJynAvv\n",
            "FvDUBA\n",
            "BnHbMcOh\n",
            "dTtEVf\n",
            "lgfDGKPP\n",
            "qIkBnlNj\n",
            "qTncJuKb\n",
            "ibAsJy\n",
            "XUJxhcp\n",
            "wEAWzm\n",
            "TIgdyi\n",
            "opUmJjI\n",
            "hlsqVwH\n",
            "PUXNGDCX\n",
            "xrVgIO\n",
            "ozTOUVd\n",
            "SzsvOT\n",
            "eSDBADTa\n",
            "NcuFsMWU\n",
            "zgeZle\n",
            "vijERxai\n",
            "mfJqnKSD\n",
            "gkSRHkO\n",
            "UWtpbeR\n",
            "MDEoyb\n",
            "vwrQNkfQ\n",
            "aGqDrJB\n",
            "XzjKYx\n",
            "JefoDI\n",
            "QsYZxe\n",
            "HRsURUMQ\n",
            "WniItBD\n",
            "xNrjFS\n",
            "FKpZvS\n",
            "znTKQmdp\n",
            "yULCWv\n",
            "KIMFFPnY\n",
            "MSFgwz\n",
            "ofwmAQPQ\n",
            "FNDAcw\n",
            "601 is a prime no\n",
            "607 is a prime no\n",
            "613 is a prime no\n",
            "617 is a prime no\n",
            "619 is a prime no\n",
            "631 is a prime no\n",
            "641 is a prime no\n",
            "643 is a prime no\n",
            "647 is a prime no\n",
            "653 is a prime no\n",
            "659 is a prime no\n",
            "661 is a prime no\n",
            "673 is a prime no\n",
            "677 is a prime no\n",
            "683 is a prime no\n",
            "691 is a prime no\n",
            "701 is a prime no\n",
            "709 is a prime no\n",
            "719 is a prime no\n",
            "727 is a prime no\n",
            "733 is a prime no\n",
            "739 is a prime no\n",
            "743 is a prime no\n",
            "751 is a prime no\n",
            "757 is a prime no\n",
            "761 is a prime no\n",
            "769 is a prime no\n",
            "773 is a prime no\n",
            "787 is a prime no\n",
            "797 is a prime no\n",
            "126\n",
            "189\n",
            "252\n",
            "315\n",
            "378\n",
            "441\n",
            "504\n",
            "567\n",
            "630\n",
            "693\n",
            "756\n",
            "819\n",
            "882\n",
            "945\n"
          ]
        }
      ]
    },
    {
      "cell_type": "markdown",
      "source": [
        "**Q5.** WAP to create two lists of 10 random numbers between 10 and 30; Find\n",
        "1. Common numbers in the two lists\n",
        "2. Unique numbers in both the list\n",
        "3. Minimum in both the list\n",
        "4. Maximum in both the list\n",
        "5. Sum of both the lists"
      ],
      "metadata": {
        "id": "GIQ1VcYVdC2I"
      }
    },
    {
      "cell_type": "code",
      "source": [
        "import random\n",
        "L1=[]\n",
        "L2=[]\n",
        "for i in range(10):\n",
        "  L1.append(random.randint(10, 30))\n",
        "for i in range(10):\n",
        "  L2.append(random.randint(10, 30))\n",
        "print(L1)\n",
        "print(L2)\n",
        "\n",
        "com=set(L1).intersection(set(L2))\n",
        "print(\"Common numbers:\", com)\n",
        "\n",
        "uniL1=list(set(L1) - set(L2))\n",
        "uniL2=list(set(L2) - set(L1))\n",
        "uninum=uniL1 + uniL2\n",
        "print(\"Unique numbers in both lists:\", uninum)\n",
        "\n",
        "min1 = min(L1)\n",
        "min2 = min(L2)\n",
        "print(\"Minimum in list 1:\", min1)\n",
        "print(\"Minimum in list 2:\", min2)\n",
        "\n",
        "max1 = max(L1)\n",
        "max2 = max(L2)\n",
        "print(\"Maximum in list 1:\", max1)\n",
        "print(\"Maximum in list 2:\", max2)\n",
        "\n",
        "sum1=sum(L1)\n",
        "sum2=sum(L2)\n",
        "sum = sum1 + sum2\n",
        "print(\"Sum of list 1:\", sum1)\n",
        "print(\"Sum of list 2:\", sum2)\n",
        "print(\"Total sum of both lists:\", sum)\n"
      ],
      "metadata": {
        "id": "wsjhzckT-7mr",
        "colab": {
          "base_uri": "https://localhost:8080/"
        },
        "outputId": "becd857f-5aad-4eee-dd97-f77db7e0ebd3"
      },
      "execution_count": 10,
      "outputs": [
        {
          "output_type": "stream",
          "name": "stdout",
          "text": [
            "[18, 29, 19, 13, 16, 12, 13, 13, 26, 14]\n",
            "[11, 25, 22, 27, 24, 27, 16, 23, 18, 20]\n",
            "Common numbers: {16, 18}\n",
            "Unique numbers in both lists: [12, 13, 14, 19, 26, 29, 11, 20, 22, 23, 24, 25, 27]\n",
            "Minimum in list 1: 12\n",
            "Minimum in list 2: 11\n",
            "Maximum in list 1: 29\n",
            "Maximum in list 2: 27\n",
            "Sum of list 1: 173\n",
            "Sum of list 2: 213\n",
            "Total sum of both lists: 386\n"
          ]
        }
      ]
    },
    {
      "cell_type": "markdown",
      "source": [
        "Q6. WAP to create a list of 100 random numbers between 100 and 900. Count and print the:\n",
        "\n",
        "1. All odd numbers\n",
        "2. All even numbers\n",
        "3. All prime numbers"
      ],
      "metadata": {
        "id": "nzPRtR55-97B"
      }
    },
    {
      "cell_type": "code",
      "source": [
        "L=[]\n",
        "for i in range(100):\n",
        "  L.append(random.randint(100,900))\n",
        "\n",
        "o=e=p=0\n",
        "for num in L:\n",
        "  if (num%2==0):\n",
        "    e+=1\n",
        "  else:\n",
        "    o+=1\n",
        "print(\"There are\",o,\"odd numbers and\",e,\"even numbers.\")\n",
        "\n",
        "for num in L:\n",
        "  p = True\n",
        "  for i in range(2, num // 2 + 1):\n",
        "    if num % i == 0:\n",
        "      p = False\n",
        "      break\n",
        "  if p:\n",
        "      print(num, \"is a prime no\")\n"
      ],
      "metadata": {
        "id": "Z8cG7SKV_OY-",
        "colab": {
          "base_uri": "https://localhost:8080/"
        },
        "outputId": "f257c66f-19f8-45c6-cb03-4475acb588d1"
      },
      "execution_count": 16,
      "outputs": [
        {
          "output_type": "stream",
          "name": "stdout",
          "text": [
            "There are 49 odd numbers and 51 even numbers.\n",
            "307 is a prime no\n",
            "179 is a prime no\n",
            "617 is a prime no\n",
            "401 is a prime no\n",
            "157 is a prime no\n",
            "457 is a prime no\n",
            "739 is a prime no\n",
            "607 is a prime no\n",
            "281 is a prime no\n",
            "547 is a prime no\n",
            "643 is a prime no\n",
            "191 is a prime no\n",
            "181 is a prime no\n",
            "277 is a prime no\n",
            "449 is a prime no\n",
            "439 is a prime no\n",
            "307 is a prime no\n",
            "211 is a prime no\n"
          ]
        }
      ]
    },
    {
      "cell_type": "markdown",
      "source": [
        "Q7. D is a dictionary defined as D={1:\"One\",2:\"Two\",3:\"Three\",4:\"Four\", 5:\"Five\"}.\n",
        "WAP to read all the keys and values from dictionary and write to the file in the given below format.\n",
        "\n",
        "Key1, Value1\n",
        "\n",
        "Key2, Value2\n",
        "\n",
        "Key3, Value3\n"
      ],
      "metadata": {
        "id": "9iR42ErM_O8U"
      }
    },
    {
      "cell_type": "code",
      "source": [
        "D={1:\"One\",2:\"Two\",3:\"Three\",4:\"Four\", 5:\"Five\"}\n",
        "\n",
        "for i in D:\n",
        "  print(i,D[i])"
      ],
      "metadata": {
        "id": "adQPmJDP_Z8v",
        "colab": {
          "base_uri": "https://localhost:8080/"
        },
        "outputId": "ab9ed1a6-9d8d-4375-86f6-acc09ca84dec"
      },
      "execution_count": 17,
      "outputs": [
        {
          "output_type": "stream",
          "name": "stdout",
          "text": [
            "1 One\n",
            "2 Two\n",
            "3 Three\n",
            "4 Four\n",
            "5 Five\n"
          ]
        }
      ]
    },
    {
      "cell_type": "markdown",
      "source": [
        "Q8. L is a list defined as L={\"One\",\"Two\",\"Three\",\"Four\",\"Five\"}.\n",
        " WAP to count the length of reach element from a list and write to the file in the given below format:\n",
        "\n",
        "One, 3\n",
        "\n",
        "Two, 3\n",
        "\n",
        "Four, 4"
      ],
      "metadata": {
        "id": "kIgxvF-t_bQM"
      }
    },
    {
      "cell_type": "code",
      "source": [],
      "metadata": {
        "id": "3AwLnqmqDIdo"
      },
      "execution_count": null,
      "outputs": []
    },
    {
      "cell_type": "markdown",
      "source": [
        "Q9. Write to the file 100 random strings whose length between 10 and 15."
      ],
      "metadata": {
        "id": "Q_KQ-fR1DI66"
      }
    },
    {
      "cell_type": "code",
      "source": [],
      "metadata": {
        "id": "CDA30N18DL9V"
      },
      "execution_count": null,
      "outputs": []
    },
    {
      "cell_type": "markdown",
      "source": [
        "Q10. Write to the file all prime numbers between 600 and 800."
      ],
      "metadata": {
        "id": "xfzdQFZQDMbr"
      }
    },
    {
      "cell_type": "code",
      "source": [],
      "metadata": {
        "id": "HraLT_kgDPQl"
      },
      "execution_count": null,
      "outputs": []
    },
    {
      "cell_type": "markdown",
      "source": [
        "Q11. WAP to calculate the time taken by a program."
      ],
      "metadata": {
        "id": "sj3aKT8CDPpQ"
      }
    },
    {
      "cell_type": "code",
      "source": [],
      "metadata": {
        "id": "z_bJB5ffDV59"
      },
      "execution_count": null,
      "outputs": []
    },
    {
      "cell_type": "markdown",
      "source": [
        "Q12. WAP to sort following number of elements in a list, calculate time taken and plot the graph.\n",
        "\n"
      ],
      "metadata": {
        "id": "8xMAoNHzDWa_"
      }
    },
    {
      "cell_type": "code",
      "source": [],
      "metadata": {
        "id": "c3F2iAIvEMWm"
      },
      "execution_count": null,
      "outputs": []
    },
    {
      "cell_type": "markdown",
      "source": [
        "Q13. WAP to create a dictionary of student marks in five subjects and you have to find the student\n",
        " having maximum and minimum average marks."
      ],
      "metadata": {
        "id": "t5RPYhGGENIh"
      }
    },
    {
      "cell_type": "code",
      "source": [],
      "metadata": {
        "id": "5QspzECMERpl"
      },
      "execution_count": null,
      "outputs": []
    },
    {
      "cell_type": "markdown",
      "source": [
        "**# Assignment 2**"
      ],
      "metadata": {
        "id": "i81PrsZxaXDy"
      }
    }
  ]
}