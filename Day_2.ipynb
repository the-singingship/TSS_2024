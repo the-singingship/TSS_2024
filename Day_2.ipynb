{
  "nbformat": 4,
  "nbformat_minor": 0,
  "metadata": {
    "colab": {
      "provenance": [],
      "toc_visible": true,
      "authorship_tag": "ABX9TyOc5RjE3GoG3ONHFy7zOsSr",
      "include_colab_link": true
    },
    "kernelspec": {
      "name": "python3",
      "display_name": "Python 3"
    },
    "language_info": {
      "name": "python"
    }
  },
  "cells": [
    {
      "cell_type": "markdown",
      "metadata": {
        "id": "view-in-github",
        "colab_type": "text"
      },
      "source": [
        "<a href=\"https://colab.research.google.com/github/the-singingship/TSS_2024/blob/main/Day_2.ipynb\" target=\"_parent\"><img src=\"https://colab.research.google.com/assets/colab-badge.svg\" alt=\"Open In Colab\"/></a>"
      ]
    },
    {
      "cell_type": "markdown",
      "source": [
        "# Assignment 1"
      ],
      "metadata": {
        "id": "nwGtP8-CaFRm"
      }
    },
    {
      "cell_type": "markdown",
      "source": [
        "**Q1.** L is a list defined as L= [11, 12, 13, 14].\n",
        "\n",
        "1.   WAP to add 50 and 60 to L.\n",
        "2.   WAP to remove 11 and 13from L.\n",
        "3.   WAP to sort L in ascending order.\n",
        "4.   WAP to sort L in descending order.\n",
        "5.   WAP to search for 13 in L.\n",
        "6.   WAP to count the number of elements present in L.\n",
        "7.   WAP to sum all the elements in L.\n",
        "8.   WAP to sum all ODD numbers in L.\n",
        "9.   WAP to sum all EVEN numbers in L.\n",
        "10.  WAP to sum all PRIME numbers in L.\n",
        "11.  WAP to clear all the elements in L.\n",
        "12.  WAP to delete L.\n"
      ],
      "metadata": {
        "id": "KUdF_NTAahUr"
      }
    },
    {
      "cell_type": "code",
      "source": [
        "L= [11, 12, 13, 14]\n",
        "L.append(50)\n",
        "L.append(60)\n",
        "print(L)\n",
        "L.remove(11)\n",
        "L.remove(13)\n",
        "L.sort()\n",
        "print(L)\n",
        "L.sort(reverse=True)\n",
        "print(L)\n",
        "\n",
        "for i in range (len(L)):\n",
        "  if L[i]==13:\n",
        "    print(\"13 is in the list\")\n",
        "    break\n",
        "  else:\n",
        "    pass\n",
        "\n",
        "c=s=0\n",
        "for i in L:\n",
        "  c+=1\n",
        "  s+=i\n",
        "print(\"No of elements in the list are \",c)\n",
        "print(\"Sum of elements of the list are \",s)\n",
        "\n",
        "e=o=0\n",
        "for i in L:\n",
        "  if(i%2==0):\n",
        "    e+=i\n",
        "  else:\n",
        "    o+=i\n",
        "print(\"Sum of all the odd nos are\",o,\"and the sum of all the even nos are\",e)\n",
        "\n",
        "for num in L:\n",
        "  p = True\n",
        "  for i in range(2, num // 2 + 1):\n",
        "    if num % i == 0:\n",
        "      p = False\n",
        "      break\n",
        "    else:\n",
        "      print(num, \"is a prime no\")\n",
        "\n",
        "  L.clear()\n",
        "  del L"
      ],
      "metadata": {
        "id": "nJ4WZRQjbjmp",
        "colab": {
          "base_uri": "https://localhost:8080/"
        },
        "outputId": "44f4c535-e215-414d-b883-ed3ea7fc5660"
      },
      "execution_count": null,
      "outputs": [
        {
          "output_type": "stream",
          "name": "stdout",
          "text": [
            "[11, 12, 13, 14, 50, 60]\n",
            "[12, 14, 50, 60]\n",
            "[60, 50, 14, 12]\n",
            "No of elements in the list are  4\n",
            "Sum of elements of the list are  136\n",
            "Sum of all the odd nos are 0 and the sum of all the even nos are 136\n"
          ]
        }
      ]
    },
    {
      "cell_type": "markdown",
      "source": [
        "**Q2.** D is a dictionary defined as D= {1:5.6, 2:7.8, 3:6.6, 4:8.7, 5:7.7}.\n",
        "1.   WAP to add new entry in D; key=8 and value is 8.8\n",
        "2.   WAP to remove key=2.\n",
        "3.   WAP to check weather 6 key is present in D.\n",
        "4.   WAP to count the number of elements present in D.\n",
        "5.   WAP to add all the values present D.\n",
        "6.   WAP to update the value of 3 to 7.1.\n",
        "7.   WAP to clear the dictionary."
      ],
      "metadata": {
        "id": "991oKoDKbmZ7"
      }
    },
    {
      "cell_type": "code",
      "source": [
        "D={1:5.6, 2:7.8, 3:6.6, 4:8.7, 5:7.7}\n",
        "D[8]=8.8\n",
        "print(D)\n",
        "\n",
        "del D[2]\n",
        "print(\"Removed key 2:\", D)\n",
        "\n",
        "if 6 in D:\n",
        "  print(\"Key 6 is present in the dictionary\")\n",
        "else:\n",
        "  print(\"Key 6 is not present in the dictionary\")\n",
        "\n",
        "n=len(D)\n",
        "print(\"Number of elements:\", n)\n",
        "\n",
        "sum=sum(D.values())\n",
        "print(\"Sum of all values:\", sum)\n",
        "\n",
        "D[3] = 7.1\n",
        "print(\"Updated value of key 3 to 7.1:\", D)\n",
        "\n",
        "D.clear()\n",
        "print(D)"
      ],
      "metadata": {
        "id": "XTey-__ScH6T",
        "outputId": "57f11034-14c9-45a9-db4b-ca3a44482157",
        "colab": {
          "base_uri": "https://localhost:8080/"
        }
      },
      "execution_count": 1,
      "outputs": [
        {
          "output_type": "stream",
          "name": "stdout",
          "text": [
            "{1: 5.6, 2: 7.8, 3: 6.6, 4: 8.7, 5: 7.7, 8: 8.8}\n",
            "Removed key 2: {1: 5.6, 3: 6.6, 4: 8.7, 5: 7.7, 8: 8.8}\n",
            "Key 6 is not present in the dictionary\n",
            "Number of elements: 5\n",
            "Sum of all values: 37.4\n",
            "Updated value of key 3 to 7.1: {1: 5.6, 3: 7.1, 4: 8.7, 5: 7.7, 8: 8.8}\n",
            "{}\n"
          ]
        }
      ]
    },
    {
      "cell_type": "markdown",
      "source": [
        "**Q3.** S1 is a set defined as S1= [10, 20, 30, 40, 50, 60].\n",
        "S2 is a set defined as S2= [40, 50, 60, 70, 80, 90].\n",
        "\n",
        "1.   WAP to add 55 and 66 in Set S1.\n",
        "2.   WAP to remove 10 and 30 from Set S1.\n",
        "3.   WAP to check whether 40 is present in S1.\n",
        "4.   WAP to find the union between S1 and S2.\n",
        "5.   WAP to find the intersection between S1 and S2.\n",
        "6.   WAP to find the S1 - S2.\n"
      ],
      "metadata": {
        "id": "eG45vSxAcIYC"
      }
    },
    {
      "cell_type": "code",
      "source": [],
      "metadata": {
        "id": "PyzooyVTcwUx"
      },
      "execution_count": null,
      "outputs": []
    },
    {
      "cell_type": "markdown",
      "source": [
        "**Q4.** Write the following program.\n",
        "\n",
        "1. WAP to print 100 random strings whose length between 6 and 8.\n",
        "2. WAP to print all prime numbers between 600 and 800.\n",
        "3. WAP to print all numbers between 100 and 1000 that are divisible by 7 and 9."
      ],
      "metadata": {
        "id": "hdpOJ0_mcw7G"
      }
    },
    {
      "cell_type": "code",
      "source": [],
      "metadata": {
        "id": "lDQAF05cdCLe"
      },
      "execution_count": null,
      "outputs": []
    },
    {
      "cell_type": "markdown",
      "source": [
        "**Q5.** WAP to create two lists of 10 random numbers between 10 and 30; Find\n",
        "1. Common numbers in the two lists\n",
        "2. Unique numbers in both the list\n",
        "3. Minimum in both the list\n",
        "4. Maximum in both the list\n",
        "5. Sum of both the lists"
      ],
      "metadata": {
        "id": "GIQ1VcYVdC2I"
      }
    },
    {
      "cell_type": "code",
      "source": [],
      "metadata": {
        "id": "wsjhzckT-7mr"
      },
      "execution_count": null,
      "outputs": []
    },
    {
      "cell_type": "markdown",
      "source": [
        "Q6. WAP to create a list of 100 random numbers between 100 and 900. Count and print the:\n",
        "\n",
        "1. All odd numbers\n",
        "2. All even numbers\n",
        "3. All prime numbers"
      ],
      "metadata": {
        "id": "nzPRtR55-97B"
      }
    },
    {
      "cell_type": "code",
      "source": [],
      "metadata": {
        "id": "Z8cG7SKV_OY-"
      },
      "execution_count": null,
      "outputs": []
    },
    {
      "cell_type": "markdown",
      "source": [
        "Q7. D is a dictionary defined as D={1:\"One\",2:\"Two\",3:\"Three\",4:\"Four\", 5:\"Five\"}.\n",
        "WAP to read all the keys and values from dictionary and write to the file in the given below format.\n",
        "\n",
        "Key1, Value1\n",
        "\n",
        "Key2, Value2\n",
        "\n",
        "Key3, Value3\n"
      ],
      "metadata": {
        "id": "9iR42ErM_O8U"
      }
    },
    {
      "cell_type": "code",
      "source": [],
      "metadata": {
        "id": "adQPmJDP_Z8v"
      },
      "execution_count": null,
      "outputs": []
    },
    {
      "cell_type": "markdown",
      "source": [
        "Q8. L is a list defined as L={\"One\",\"Two\",\"Three\",\"Four\",\"Five\"}.\n",
        " WAP to count the length of reach element from a list and write to the file in the given below format:\n",
        "\n",
        "One, 3\n",
        "\n",
        "Two, 3\n",
        "\n",
        "Four, 4"
      ],
      "metadata": {
        "id": "kIgxvF-t_bQM"
      }
    },
    {
      "cell_type": "code",
      "source": [],
      "metadata": {
        "id": "3AwLnqmqDIdo"
      },
      "execution_count": null,
      "outputs": []
    },
    {
      "cell_type": "markdown",
      "source": [
        "Q9. Write to the file 100 random strings whose length between 10 and 15."
      ],
      "metadata": {
        "id": "Q_KQ-fR1DI66"
      }
    },
    {
      "cell_type": "code",
      "source": [],
      "metadata": {
        "id": "CDA30N18DL9V"
      },
      "execution_count": null,
      "outputs": []
    },
    {
      "cell_type": "markdown",
      "source": [
        "Q10. Write to the file all prime numbers between 600 and 800."
      ],
      "metadata": {
        "id": "xfzdQFZQDMbr"
      }
    },
    {
      "cell_type": "code",
      "source": [],
      "metadata": {
        "id": "HraLT_kgDPQl"
      },
      "execution_count": null,
      "outputs": []
    },
    {
      "cell_type": "markdown",
      "source": [
        "Q11. WAP to calculate the time taken by a program."
      ],
      "metadata": {
        "id": "sj3aKT8CDPpQ"
      }
    },
    {
      "cell_type": "code",
      "source": [],
      "metadata": {
        "id": "z_bJB5ffDV59"
      },
      "execution_count": null,
      "outputs": []
    },
    {
      "cell_type": "markdown",
      "source": [
        "Q12. WAP to sort following number of elements in a list, calculate time taken and plot the graph.\n",
        "\n"
      ],
      "metadata": {
        "id": "8xMAoNHzDWa_"
      }
    },
    {
      "cell_type": "code",
      "source": [],
      "metadata": {
        "id": "c3F2iAIvEMWm"
      },
      "execution_count": null,
      "outputs": []
    },
    {
      "cell_type": "markdown",
      "source": [
        "Q13. WAP to create a dictionary of student marks in five subjects and you have to find the student\n",
        " having maximum and minimum average marks."
      ],
      "metadata": {
        "id": "t5RPYhGGENIh"
      }
    },
    {
      "cell_type": "code",
      "source": [],
      "metadata": {
        "id": "5QspzECMERpl"
      },
      "execution_count": null,
      "outputs": []
    },
    {
      "cell_type": "markdown",
      "source": [
        "**# Assignment 2**"
      ],
      "metadata": {
        "id": "i81PrsZxaXDy"
      }
    }
  ]
}